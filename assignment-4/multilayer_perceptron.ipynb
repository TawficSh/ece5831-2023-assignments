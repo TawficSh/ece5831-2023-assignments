{
 "cells": [
  {
   "cell_type": "markdown",
   "metadata": {},
   "source": [
    "Multi Layer Perceptron Class"
   ]
  },
  {
   "cell_type": "code",
   "execution_count": 5,
   "metadata": {},
   "outputs": [],
   "source": [
    "import numpy as np\n",
    "#import matplotlib.pyplot as plt\n",
    "\n",
    "class MultiLayerPerceptron:\n",
    "    def __init__(self):\n",
    "        self.network={}\n",
    "        self.network['w1']=np.array([[0.5,0.6,0.7],[0.1,0.2,0.3]])\n",
    "        self.network['b1']=np.array([0.2,0.3,0.4])\n",
    "        self.network['w2']=np.array([[0.1,0.2],[0.3,0.4],[0.4,0.5]])\n",
    "        self.network['b2']=np.array([0.2,0.9])\n",
    "        self.network['w3']=np.array([[0.5,0.6],[0.2365,0.36598]])\n",
    "        self.network['b3']=np.array([0.1234,0.9876])\n",
    "\n",
    "    def sigmoid(self,s):\n",
    "        return 1/(1+np.exp(-s))\n",
    "    \n",
    "    def softmax(self,ss):\n",
    "        m=np.max(ss)\n",
    "        a=np.exp(ss-m)\n",
    "        s=np.sum(a)\n",
    "        return a/s\n",
    "    \n",
    "    def identity_function(self,s):\n",
    "        return s\n",
    "    \n",
    "    def forward(self,x):\n",
    "        w1,w2,w3=self.network[\"w1\"],self.network[\"w2\"],self.network[\"w3\"]\n",
    "        b1,b2,b3=self.network[\"b1\"],self.network[\"b2\"],self.network[\"b3\"]\n",
    "\n",
    "        a1=np.dot(x,w1)+b1\n",
    "        z1=self.sigmoid(a1)\n",
    "\n",
    "        a2=np.dot(z1,w2)+b2\n",
    "        z2=self.sigmoid(a2)\n",
    "\n",
    "        a3=np.dot(z2,w3)+b3\n",
    "        z3=self.softmax(a3)\n",
    "\n",
    "        y=self.identity_function(z3)\n",
    "        return y"
   ]
  },
  {
   "cell_type": "code",
   "execution_count": 4,
   "metadata": {},
   "outputs": [
    {
     "name": "stdout",
     "output_type": "stream",
     "text": [
      "[0.26155687 0.73844313]\n"
     ]
    }
   ],
   "source": [
    "p=MultiLayerPerceptron()\n",
    "y=p.forward(np.array([0.1,0.2]))\n",
    "print(y)"
   ]
  }
 ],
 "metadata": {
  "kernelspec": {
   "display_name": "ece5831-2023",
   "language": "python",
   "name": "python3"
  },
  "language_info": {
   "codemirror_mode": {
    "name": "ipython",
    "version": 3
   },
   "file_extension": ".py",
   "mimetype": "text/x-python",
   "name": "python",
   "nbconvert_exporter": "python",
   "pygments_lexer": "ipython3",
   "version": "3.8.17"
  },
  "orig_nbformat": 4
 },
 "nbformat": 4,
 "nbformat_minor": 2
}
