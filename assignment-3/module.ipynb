{
 "cells": [
  {
   "cell_type": "markdown",
   "metadata": {},
   "source": [
    "Logic Gate Implementation"
   ]
  },
  {
   "cell_type": "markdown",
   "metadata": {},
   "source": [
    "Logic Gate Class"
   ]
  },
  {
   "cell_type": "code",
   "execution_count": 2,
   "metadata": {},
   "outputs": [],
   "source": [
    "import numpy as np\n",
    "\n",
    "class LogicGate:\n",
    "    def __init__(self):\n",
    "        self.w1 = None\n",
    "        self.w2 = None\n",
    "        self.th = None\n",
    "        self.out = None\n",
    "        self.x1 = self.x2 = None\n",
    "\n",
    "    def print_output(self, gate):\n",
    "        if gate == 'AND':\n",
    "            print(f'{self.x1} AND {self.x2} is {self.out}')\n",
    "        elif gate == 'OR':    \n",
    "            print(f'{self.x1} OR {self.x2} is {self.out}')\n",
    "        elif gate == 'XOR':\n",
    "            print(f'{self.x1} XOR {self.x2} is {self.out}')\n",
    "        else:\n",
    "            print(f'{self.x1} NAND {self.x2} is {self.out}')\n",
    "\n",
    "    def nand_gate(self, x1, x2):\n",
    "        self.w1 = -0.2\n",
    "        self.w2 = -0.4\n",
    "        self.th = -0.5\n",
    "\n",
    "        self.x1 = x1\n",
    "        self.x2 = x2\n",
    "\n",
    "        x = np.array([x1, x2])\n",
    "        w = np.array([self.w1, self.w2])\n",
    "\n",
    "        if np.sum(x * w) > self.th:\n",
    "            self.out = 1\n",
    "            return 1\n",
    "        else:\n",
    "            self.out = 0\n",
    "            return 0   \n",
    "\n",
    "    def xor_gate(self, x1, x2):\n",
    "        self.w1 = -0.5\n",
    "        self.w2 = -0.5\n",
    "        self.th = 0.0\n",
    "\n",
    "        self.x1 = x1\n",
    "        self.x2 = x2\n",
    "\n",
    "        x = np.array([x1, x2])\n",
    "        w = np.array([self.w1, self.w2])\n",
    "\n",
    "        if np.sum(x * w) > self.th:\n",
    "            self.out = 1\n",
    "            return 1\n",
    "        else:\n",
    "            self.out = 0\n",
    "            return 0   \n",
    "    \n",
    "    def or_gate(self, x1, x2):\n",
    "        self.w1 = 0.5\n",
    "        self.w2 = 0.5\n",
    "        self.th = 0.0\n",
    "\n",
    "        self.x1 = x1\n",
    "        self.x2 = x2\n",
    "\n",
    "        x = np.array([x1, x2])\n",
    "        w = np.array([self.w1, self.w2])\n",
    "\n",
    "        if np.sum(x * w) > self.th:\n",
    "            self.out = 1\n",
    "            return 1\n",
    "        else:\n",
    "            self.out = 0\n",
    "            return 0        \n",
    "\n",
    "    def and_gate(self, x1, x2):\n",
    "        self.w1 = 0.5\n",
    "        self.w2 = 0.5\n",
    "        self.th = 0.99\n",
    "\n",
    "        self.x1 = x1\n",
    "        self.x2 = x2\n",
    "\n",
    "        x = np.array([x1, x2])\n",
    "        w = np.array([self.w1, self.w2])\n",
    "        \n",
    "        if np.sum(x * w) > self.th:\n",
    "            self.out = 1\n",
    "            return 1\n",
    "        else:\n",
    "            self.out = 0\n",
    "            return 0"
   ]
  },
  {
   "cell_type": "code",
   "execution_count": 3,
   "metadata": {},
   "outputs": [],
   "source": [
    "logic_gate=LogicGate()"
   ]
  },
  {
   "cell_type": "code",
   "execution_count": 4,
   "metadata": {},
   "outputs": [
    {
     "name": "stdout",
     "output_type": "stream",
     "text": [
      "0 AND 1 is 0\n"
     ]
    }
   ],
   "source": [
    "logic_gate.and_gate(0,1)\n",
    "logic_gate.print_output(\"AND\")"
   ]
  },
  {
   "cell_type": "code",
   "execution_count": 5,
   "metadata": {},
   "outputs": [
    {
     "name": "stdout",
     "output_type": "stream",
     "text": [
      "0 OR 1 is 1\n"
     ]
    }
   ],
   "source": [
    "logic_gate.or_gate(0,1)\n",
    "logic_gate.print_output(\"OR\")"
   ]
  },
  {
   "cell_type": "code",
   "execution_count": 6,
   "metadata": {},
   "outputs": [
    {
     "name": "stdout",
     "output_type": "stream",
     "text": [
      "0 XOR 1 is 0\n"
     ]
    }
   ],
   "source": [
    "logic_gate.xor_gate(0,1)\n",
    "logic_gate.print_output(\"XOR\")"
   ]
  },
  {
   "cell_type": "code",
   "execution_count": 7,
   "metadata": {},
   "outputs": [
    {
     "name": "stdout",
     "output_type": "stream",
     "text": [
      "0 NAND 1 is 1\n"
     ]
    }
   ],
   "source": [
    "logic_gate.nand_gate(0,1)\n",
    "logic_gate.print_output(\"NAND\")"
   ]
  }
 ],
 "metadata": {
  "kernelspec": {
   "display_name": "ece5831-2023",
   "language": "python",
   "name": "python3"
  },
  "language_info": {
   "codemirror_mode": {
    "name": "ipython",
    "version": 3
   },
   "file_extension": ".py",
   "mimetype": "text/x-python",
   "name": "python",
   "nbconvert_exporter": "python",
   "pygments_lexer": "ipython3",
   "version": "3.8.17"
  },
  "orig_nbformat": 4
 },
 "nbformat": 4,
 "nbformat_minor": 2
}
