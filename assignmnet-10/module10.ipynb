{
 "cells": [
  {
   "cell_type": "markdown",
   "metadata": {},
   "source": [
    "IMDB"
   ]
  },
  {
   "cell_type": "code",
   "execution_count": 1,
   "metadata": {},
   "outputs": [
    {
     "name": "stdout",
     "output_type": "stream",
     "text": [
      "Requirement already satisfied: matplotlib in c:\\users\\acer\\appdata\\local\\programs\\python\\python310\\lib\\site-packages (3.8.2)\n",
      "Requirement already satisfied: pillow>=8 in c:\\users\\acer\\appdata\\local\\programs\\python\\python310\\lib\\site-packages (from matplotlib) (10.1.0)\n",
      "Requirement already satisfied: numpy<2,>=1.21 in c:\\users\\acer\\appdata\\local\\programs\\python\\python310\\lib\\site-packages (from matplotlib) (1.24.3)\n",
      "Requirement already satisfied: packaging>=20.0 in c:\\users\\acer\\appdata\\roaming\\python\\python310\\site-packages (from matplotlib) (23.2)\n",
      "Requirement already satisfied: python-dateutil>=2.7 in c:\\users\\acer\\appdata\\roaming\\python\\python310\\site-packages (from matplotlib) (2.8.2)\n",
      "Requirement already satisfied: kiwisolver>=1.3.1 in c:\\users\\acer\\appdata\\local\\programs\\python\\python310\\lib\\site-packages (from matplotlib) (1.4.5)\n",
      "Requirement already satisfied: cycler>=0.10 in c:\\users\\acer\\appdata\\local\\programs\\python\\python310\\lib\\site-packages (from matplotlib) (0.12.1)\n",
      "Requirement already satisfied: fonttools>=4.22.0 in c:\\users\\acer\\appdata\\local\\programs\\python\\python310\\lib\\site-packages (from matplotlib) (4.45.1)\n",
      "Requirement already satisfied: contourpy>=1.0.1 in c:\\users\\acer\\appdata\\local\\programs\\python\\python310\\lib\\site-packages (from matplotlib) (1.2.0)\n",
      "Requirement already satisfied: pyparsing>=2.3.1 in c:\\users\\acer\\appdata\\local\\programs\\python\\python310\\lib\\site-packages (from matplotlib) (3.1.1)\n",
      "Requirement already satisfied: six>=1.5 in c:\\users\\acer\\appdata\\roaming\\python\\python310\\site-packages (from python-dateutil>=2.7->matplotlib) (1.16.0)\n",
      "Note: you may need to restart the kernel to use updated packages.\n"
     ]
    },
    {
     "name": "stderr",
     "output_type": "stream",
     "text": [
      "WARNING: You are using pip version 22.0.4; however, version 23.3.1 is available.\n",
      "You should consider upgrading via the 'c:\\Users\\ACER\\AppData\\Local\\Programs\\Python\\Python310\\python.exe -m pip install --upgrade pip' command.\n"
     ]
    }
   ],
   "source": [
    "pip install matplotlib"
   ]
  },
  {
   "cell_type": "code",
   "execution_count": 2,
   "metadata": {},
   "outputs": [
    {
     "name": "stdout",
     "output_type": "stream",
     "text": [
      "WARNING:tensorflow:From c:\\Users\\ACER\\AppData\\Local\\Programs\\Python\\Python310\\lib\\site-packages\\keras\\src\\losses.py:2976: The name tf.losses.sparse_softmax_cross_entropy is deprecated. Please use tf.compat.v1.losses.sparse_softmax_cross_entropy instead.\n",
      "\n"
     ]
    }
   ],
   "source": [
    "import numpy as np\n",
    "import tensorflow as tf\n",
    "from keras import models\n",
    "from keras import layers\n",
    "import matplotlib.pyplot as plt\n",
    "from keras.datasets import imdb"
   ]
  },
  {
   "cell_type": "code",
   "execution_count": 3,
   "metadata": {},
   "outputs": [
    {
     "data": {
      "text/plain": [
       "141"
      ]
     },
     "execution_count": 3,
     "metadata": {},
     "output_type": "execute_result"
    }
   ],
   "source": [
    "NUM_WORDS=10000\n",
    "(train_data, train_labels), (test_data, test_labels) = imdb.load_data(num_words=NUM_WORDS)\n",
    "len(train_data[2])"
   ]
  },
  {
   "cell_type": "code",
   "execution_count": 4,
   "metadata": {},
   "outputs": [],
   "source": [
    "import imdb as imdb\n",
    "imdb=imdb.IMDB()\n",
    "\n",
    "x_train = imdb.vectorize_sequences(train_data) \n",
    "x_test  = imdb.vectorize_sequences(test_data)\n",
    "y_train = np.asarray(train_labels).astype('float32')\n",
    "y_test = np.asarray(test_labels).astype('float32')"
   ]
  },
  {
   "cell_type": "code",
   "execution_count": 5,
   "metadata": {},
   "outputs": [
    {
     "data": {
      "text/plain": [
       "array([1., 0., 0., ..., 0., 1., 0.], dtype=float32)"
      ]
     },
     "execution_count": 5,
     "metadata": {},
     "output_type": "execute_result"
    }
   ],
   "source": [
    "y_train"
   ]
  },
  {
   "cell_type": "code",
   "execution_count": 6,
   "metadata": {},
   "outputs": [
    {
     "name": "stdout",
     "output_type": "stream",
     "text": [
      "WARNING:tensorflow:From c:\\Users\\ACER\\AppData\\Local\\Programs\\Python\\Python310\\lib\\site-packages\\keras\\src\\backend.py:873: The name tf.get_default_graph is deprecated. Please use tf.compat.v1.get_default_graph instead.\n",
      "\n"
     ]
    }
   ],
   "source": [
    "model=imdb.build_model()"
   ]
  },
  {
   "cell_type": "code",
   "execution_count": 7,
   "metadata": {},
   "outputs": [
    {
     "name": "stdout",
     "output_type": "stream",
     "text": [
      "WARNING:tensorflow:From c:\\Users\\ACER\\AppData\\Local\\Programs\\Python\\Python310\\lib\\site-packages\\keras\\src\\optimizers\\__init__.py:309: The name tf.train.Optimizer is deprecated. Please use tf.compat.v1.train.Optimizer instead.\n",
      "\n",
      "Epoch 1/30\n",
      "WARNING:tensorflow:From c:\\Users\\ACER\\AppData\\Local\\Programs\\Python\\Python310\\lib\\site-packages\\keras\\src\\utils\\tf_utils.py:492: The name tf.ragged.RaggedTensorValue is deprecated. Please use tf.compat.v1.ragged.RaggedTensorValue instead.\n",
      "\n",
      "WARNING:tensorflow:From c:\\Users\\ACER\\AppData\\Local\\Programs\\Python\\Python310\\lib\\site-packages\\keras\\src\\engine\\base_layer_utils.py:384: The name tf.executing_eagerly_outside_functions is deprecated. Please use tf.compat.v1.executing_eagerly_outside_functions instead.\n",
      "\n",
      "40/40 [==============================] - 2s 33ms/step - loss: 0.5078 - accuracy: 0.7962 - val_loss: 0.3866 - val_accuracy: 0.8616\n",
      "Epoch 2/30\n",
      "40/40 [==============================] - 1s 13ms/step - loss: 0.3058 - accuracy: 0.8967 - val_loss: 0.3184 - val_accuracy: 0.8750\n",
      "Epoch 3/30\n",
      "40/40 [==============================] - 0s 12ms/step - loss: 0.2343 - accuracy: 0.9158 - val_loss: 0.2764 - val_accuracy: 0.8930\n",
      "Epoch 4/30\n",
      "40/40 [==============================] - 0s 13ms/step - loss: 0.1951 - accuracy: 0.9316 - val_loss: 0.2776 - val_accuracy: 0.8882\n",
      "Epoch 5/30\n",
      "40/40 [==============================] - 0s 12ms/step - loss: 0.1655 - accuracy: 0.9428 - val_loss: 0.3368 - val_accuracy: 0.8710\n",
      "Epoch 6/30\n",
      "40/40 [==============================] - 0s 11ms/step - loss: 0.1497 - accuracy: 0.9474 - val_loss: 0.2907 - val_accuracy: 0.8882\n"
     ]
    },
    {
     "data": {
      "text/plain": [
       "<keras.src.callbacks.History at 0x2453c883ca0>"
      ]
     },
     "execution_count": 7,
     "metadata": {},
     "output_type": "execute_result"
    }
   ],
   "source": [
    "imdb.train(x_train,y_train)"
   ]
  },
  {
   "cell_type": "code",
   "execution_count": 8,
   "metadata": {},
   "outputs": [
    {
     "data": {
      "image/png": "[encoded data removed]",
      "text/plain": [
       "<Figure size 640x480 with 1 Axes>"
      ]
     },
     "metadata": {},
     "output_type": "display_data"
    }
   ],
   "source": [
    "imdb.visualize()"
   ]
  },
  {
   "cell_type": "code",
   "execution_count": 9,
   "metadata": {},
   "outputs": [
    {
     "name": "stdout",
     "output_type": "stream",
     "text": [
      "INFO:tensorflow:Assets written to: Tawfic1\\assets\n"
     ]
    },
    {
     "name": "stderr",
     "output_type": "stream",
     "text": [
      "INFO:tensorflow:Assets written to: Tawfic1\\assets\n"
     ]
    }
   ],
   "source": [
    "imdb.save_model(\"Tawfic1\")"
   ]
  },
  {
   "cell_type": "code",
   "execution_count": 10,
   "metadata": {},
   "outputs": [
    {
     "name": "stdout",
     "output_type": "stream",
     "text": [
      "782/782 [==============================] - 2s 2ms/step\n"
     ]
    },
    {
     "data": {
      "text/plain": [
       "25000"
      ]
     },
     "execution_count": 10,
     "metadata": {},
     "output_type": "execute_result"
    }
   ],
   "source": [
    "predictions=imdb.predict(x_test)\n",
    "len(predictions)"
   ]
  },
  {
   "cell_type": "code",
   "execution_count": 11,
   "metadata": {},
   "outputs": [
    {
     "data": {
      "text/plain": [
       "array([0.16717696], dtype=float32)"
      ]
     },
     "execution_count": 11,
     "metadata": {},
     "output_type": "execute_result"
    }
   ],
   "source": [
    "predictions[0]"
   ]
  },
  {
   "cell_type": "markdown",
   "metadata": {},
   "source": [
    "Bsoton Housing"
   ]
  },
  {
   "cell_type": "code",
   "execution_count": 12,
   "metadata": {},
   "outputs": [],
   "source": [
    "from keras import models\n",
    "from keras import layers\n",
    "import matplotlib.pyplot as plt\n",
    "from keras.datasets import boston_housing   "
   ]
  },
  {
   "cell_type": "code",
   "execution_count": 13,
   "metadata": {},
   "outputs": [],
   "source": [
    "(train_data, train_labels), (test_data, test_labels) = boston_housing.load_data()"
   ]
  },
  {
   "cell_type": "code",
   "execution_count": 14,
   "metadata": {},
   "outputs": [
    {
     "data": {
      "text/plain": [
       "array([15.2, 42.3, 50. , 21.1, 17.7, 18.5, 11.3, 15.6, 15.6, 14.4, 12.1,\n",
       "       17.9, 23.1, 19.9, 15.7,  8.8, 50. , 22.5, 24.1, 27.5, 10.9, 30.8,\n",
       "       32.9, 24. , 18.5, 13.3, 22.9, 34.7, 16.6, 17.5, 22.3, 16.1, 14.9,\n",
       "       23.1, 34.9, 25. , 13.9, 13.1, 20.4, 20. , 15.2, 24.7, 22.2, 16.7,\n",
       "       12.7, 15.6, 18.4, 21. , 30.1, 15.1, 18.7,  9.6, 31.5, 24.8, 19.1,\n",
       "       22. , 14.5, 11. , 32. , 29.4, 20.3, 24.4, 14.6, 19.5, 14.1, 14.3,\n",
       "       15.6, 10.5,  6.3, 19.3, 19.3, 13.4, 36.4, 17.8, 13.5, 16.5,  8.3,\n",
       "       14.3, 16. , 13.4, 28.6, 43.5, 20.2, 22. , 23. , 20.7, 12.5, 48.5,\n",
       "       14.6, 13.4, 23.7, 50. , 21.7, 39.8, 38.7, 22.2, 34.9, 22.5, 31.1,\n",
       "       28.7, 46. , 41.7, 21. , 26.6, 15. , 24.4, 13.3, 21.2, 11.7, 21.7,\n",
       "       19.4, 50. , 22.8, 19.7, 24.7, 36.2, 14.2, 18.9, 18.3, 20.6, 24.6,\n",
       "       18.2,  8.7, 44. , 10.4, 13.2, 21.2, 37. , 30.7, 22.9, 20. , 19.3,\n",
       "       31.7, 32. , 23.1, 18.8, 10.9, 50. , 19.6,  5. , 14.4, 19.8, 13.8,\n",
       "       19.6, 23.9, 24.5, 25. , 19.9, 17.2, 24.6, 13.5, 26.6, 21.4, 11.9,\n",
       "       22.6, 19.6,  8.5, 23.7, 23.1, 22.4, 20.5, 23.6, 18.4, 35.2, 23.1,\n",
       "       27.9, 20.6, 23.7, 28. , 13.6, 27.1, 23.6, 20.6, 18.2, 21.7, 17.1,\n",
       "        8.4, 25.3, 13.8, 22.2, 18.4, 20.7, 31.6, 30.5, 20.3,  8.8, 19.2,\n",
       "       19.4, 23.1, 23. , 14.8, 48.8, 22.6, 33.4, 21.1, 13.6, 32.2, 13.1,\n",
       "       23.4, 18.9, 23.9, 11.8, 23.3, 22.8, 19.6, 16.7, 13.4, 22.2, 20.4,\n",
       "       21.8, 26.4, 14.9, 24.1, 23.8, 12.3, 29.1, 21. , 19.5, 23.3, 23.8,\n",
       "       17.8, 11.5, 21.7, 19.9, 25. , 33.4, 28.5, 21.4, 24.3, 27.5, 33.1,\n",
       "       16.2, 23.3, 48.3, 22.9, 22.8, 13.1, 12.7, 22.6, 15. , 15.3, 10.5,\n",
       "       24. , 18.5, 21.7, 19.5, 33.2, 23.2,  5. , 19.1, 12.7, 22.3, 10.2,\n",
       "       13.9, 16.3, 17. , 20.1, 29.9, 17.2, 37.3, 45.4, 17.8, 23.2, 29. ,\n",
       "       22. , 18. , 17.4, 34.6, 20.1, 25. , 15.6, 24.8, 28.2, 21.2, 21.4,\n",
       "       23.8, 31. , 26.2, 17.4, 37.9, 17.5, 20. ,  8.3, 23.9,  8.4, 13.8,\n",
       "        7.2, 11.7, 17.1, 21.6, 50. , 16.1, 20.4, 20.6, 21.4, 20.6, 36.5,\n",
       "        8.5, 24.8, 10.8, 21.9, 17.3, 18.9, 36.2, 14.9, 18.2, 33.3, 21.8,\n",
       "       19.7, 31.6, 24.8, 19.4, 22.8,  7.5, 44.8, 16.8, 18.7, 50. , 50. ,\n",
       "       19.5, 20.1, 50. , 17.2, 20.8, 19.3, 41.3, 20.4, 20.5, 13.8, 16.5,\n",
       "       23.9, 20.6, 31.5, 23.3, 16.8, 14. , 33.8, 36.1, 12.8, 18.3, 18.7,\n",
       "       19.1, 29. , 30.1, 50. , 50. , 22. , 11.9, 37.6, 50. , 22.7, 20.8,\n",
       "       23.5, 27.9, 50. , 19.3, 23.9, 22.6, 15.2, 21.7, 19.2, 43.8, 20.3,\n",
       "       33.2, 19.9, 22.5, 32.7, 22. , 17.1, 19. , 15. , 16.1, 25.1, 23.7,\n",
       "       28.7, 37.2, 22.6, 16.4, 25. , 29.8, 22.1, 17.4, 18.1, 30.3, 17.5,\n",
       "       24.7, 12.6, 26.5, 28.7, 13.3, 10.4, 24.4, 23. , 20. , 17.8,  7. ,\n",
       "       11.8, 24.4, 13.8, 19.4, 25.2, 19.4, 19.4, 29.1])"
      ]
     },
     "execution_count": 14,
     "metadata": {},
     "output_type": "execute_result"
    }
   ],
   "source": [
    "train_labels"
   ]
  },
  {
   "cell_type": "code",
   "execution_count": 15,
   "metadata": {},
   "outputs": [],
   "source": [
    "import boston_housing as bh\n",
    "bh=bh.bostonHousing()\n",
    "x_data=bh.normalize_data(train_data)"
   ]
  },
  {
   "cell_type": "code",
   "execution_count": 16,
   "metadata": {},
   "outputs": [
    {
     "data": {
      "text/plain": [
       "array([[-0.27224633, -0.48361547, -0.43576161, ...,  1.14850044,\n",
       "         0.44807713,  0.8252202 ],\n",
       "       [-0.40342651,  2.99178419, -1.33391162, ..., -1.71818909,\n",
       "         0.43190599, -1.32920239],\n",
       "       [ 0.1249402 , -0.48361547,  1.0283258 , ...,  0.78447637,\n",
       "         0.22061726, -1.30850006],\n",
       "       ...,\n",
       "       [-0.40202987,  0.99079651, -0.7415148 , ..., -0.71712291,\n",
       "         0.07943894, -0.67776904],\n",
       "       [-0.17292018, -0.48361547,  1.24588095, ..., -1.71818909,\n",
       "        -0.98764362,  0.42083466],\n",
       "       [-0.40422614,  2.04394792, -1.20161456, ..., -1.30866202,\n",
       "         0.23317118, -1.15392266]])"
      ]
     },
     "execution_count": 16,
     "metadata": {},
     "output_type": "execute_result"
    }
   ],
   "source": [
    "x_data"
   ]
  },
  {
   "cell_type": "code",
   "execution_count": 17,
   "metadata": {},
   "outputs": [],
   "source": [
    "model=bh.build_model(x_data.shape[1])"
   ]
  },
  {
   "cell_type": "code",
   "execution_count": 18,
   "metadata": {},
   "outputs": [
    {
     "name": "stdout",
     "output_type": "stream",
     "text": [
      "Epoch 1/200\n",
      "323/323 [==============================] - 2s 4ms/step - loss: 193.7146 - mae: 10.0071 - val_loss: 53.7143 - val_mae: 5.2037\n",
      "Epoch 2/200\n",
      "323/323 [==============================] - 1s 3ms/step - loss: 31.1111 - mae: 3.7967 - val_loss: 24.9793 - val_mae: 3.4834\n",
      "Epoch 3/200\n",
      "323/323 [==============================] - 1s 3ms/step - loss: 21.8545 - mae: 3.1280 - val_loss: 20.0634 - val_mae: 3.2315\n",
      "Epoch 4/200\n",
      "323/323 [==============================] - 1s 2ms/step - loss: 17.1686 - mae: 2.7774 - val_loss: 18.3036 - val_mae: 2.9065\n",
      "Epoch 5/200\n",
      "323/323 [==============================] - 1s 3ms/step - loss: 15.9784 - mae: 2.6285 - val_loss: 16.7213 - val_mae: 2.8845\n",
      "Epoch 6/200\n",
      "323/323 [==============================] - 1s 3ms/step - loss: 14.9974 - mae: 2.5056 - val_loss: 13.3163 - val_mae: 2.6646\n",
      "Epoch 7/200\n",
      "323/323 [==============================] - 1s 2ms/step - loss: 14.1467 - mae: 2.3827 - val_loss: 12.3310 - val_mae: 2.6038\n",
      "Epoch 8/200\n",
      "323/323 [==============================] - 1s 2ms/step - loss: 13.0024 - mae: 2.3403 - val_loss: 12.3741 - val_mae: 2.6352\n",
      "Epoch 9/200\n",
      "323/323 [==============================] - 1s 2ms/step - loss: 12.2947 - mae: 2.3110 - val_loss: 15.5959 - val_mae: 3.0174\n",
      "Epoch 10/200\n",
      "323/323 [==============================] - 1s 2ms/step - loss: 12.3116 - mae: 2.2935 - val_loss: 12.8361 - val_mae: 2.6771\n",
      "Epoch 11/200\n",
      "323/323 [==============================] - 1s 2ms/step - loss: 11.5250 - mae: 2.1492 - val_loss: 16.0172 - val_mae: 3.1462\n",
      "Epoch 12/200\n",
      "323/323 [==============================] - 1s 2ms/step - loss: 11.2467 - mae: 2.2263 - val_loss: 11.1044 - val_mae: 2.4744\n",
      "Epoch 13/200\n",
      "323/323 [==============================] - 1s 2ms/step - loss: 10.5405 - mae: 2.1036 - val_loss: 12.9652 - val_mae: 2.9100\n",
      "Epoch 14/200\n",
      "323/323 [==============================] - 1s 2ms/step - loss: 10.3792 - mae: 2.1211 - val_loss: 13.1953 - val_mae: 2.8479\n",
      "Epoch 15/200\n",
      "323/323 [==============================] - 1s 2ms/step - loss: 9.6577 - mae: 2.0594 - val_loss: 13.2872 - val_mae: 2.7640\n",
      "Epoch 16/200\n",
      "323/323 [==============================] - 1s 3ms/step - loss: 10.0113 - mae: 2.0531 - val_loss: 11.6906 - val_mae: 2.4842\n",
      "Epoch 17/200\n",
      "323/323 [==============================] - 1s 2ms/step - loss: 9.8259 - mae: 2.0264 - val_loss: 12.3171 - val_mae: 2.4789\n",
      "Epoch 18/200\n",
      "323/323 [==============================] - 1s 3ms/step - loss: 9.6005 - mae: 1.9992 - val_loss: 13.5609 - val_mae: 2.7570\n",
      "Epoch 19/200\n",
      "323/323 [==============================] - 1s 3ms/step - loss: 9.1402 - mae: 1.9783 - val_loss: 15.2136 - val_mae: 2.7973\n",
      "Epoch 20/200\n",
      "323/323 [==============================] - 1s 2ms/step - loss: 9.0668 - mae: 1.9400 - val_loss: 13.6461 - val_mae: 2.5340\n",
      "Epoch 21/200\n",
      "323/323 [==============================] - 1s 2ms/step - loss: 8.6601 - mae: 1.9889 - val_loss: 14.2461 - val_mae: 2.7063\n",
      "Epoch 22/200\n",
      "323/323 [==============================] - 1s 2ms/step - loss: 8.8802 - mae: 1.9241 - val_loss: 13.4465 - val_mae: 2.6504\n",
      "Epoch 23/200\n",
      "323/323 [==============================] - 1s 2ms/step - loss: 8.7096 - mae: 1.9277 - val_loss: 13.3555 - val_mae: 2.6584\n",
      "Epoch 24/200\n",
      "323/323 [==============================] - 1s 2ms/step - loss: 8.7589 - mae: 1.8572 - val_loss: 13.6504 - val_mae: 2.6087\n",
      "Epoch 25/200\n",
      "323/323 [==============================] - 1s 2ms/step - loss: 8.2200 - mae: 1.8512 - val_loss: 12.3978 - val_mae: 2.4700\n",
      "Epoch 26/200\n",
      "323/323 [==============================] - 1s 2ms/step - loss: 8.1789 - mae: 1.8326 - val_loss: 15.1272 - val_mae: 2.9215\n",
      "Epoch 27/200\n",
      "323/323 [==============================] - 1s 2ms/step - loss: 8.0400 - mae: 1.8455 - val_loss: 19.0767 - val_mae: 3.0604\n",
      "Epoch 28/200\n",
      "323/323 [==============================] - 1s 2ms/step - loss: 7.9542 - mae: 1.8301 - val_loss: 15.4123 - val_mae: 2.5935\n",
      "Epoch 29/200\n",
      "323/323 [==============================] - 1s 2ms/step - loss: 7.9199 - mae: 1.8393 - val_loss: 14.3532 - val_mae: 2.5796\n",
      "Epoch 30/200\n",
      "323/323 [==============================] - 1s 2ms/step - loss: 7.6118 - mae: 1.7557 - val_loss: 14.6841 - val_mae: 2.7244\n",
      "Epoch 31/200\n",
      "323/323 [==============================] - 1s 2ms/step - loss: 7.6313 - mae: 1.8457 - val_loss: 13.6361 - val_mae: 2.5183\n",
      "Epoch 32/200\n",
      "323/323 [==============================] - 1s 2ms/step - loss: 7.7693 - mae: 1.7635 - val_loss: 14.5811 - val_mae: 2.7663\n",
      "Epoch 33/200\n",
      "323/323 [==============================] - 1s 2ms/step - loss: 7.3250 - mae: 1.7161 - val_loss: 14.6011 - val_mae: 2.5447\n",
      "Epoch 34/200\n",
      "323/323 [==============================] - 1s 3ms/step - loss: 7.5146 - mae: 1.7293 - val_loss: 15.7563 - val_mae: 2.6216\n",
      "Epoch 35/200\n",
      "323/323 [==============================] - 1s 4ms/step - loss: 7.4566 - mae: 1.7705 - val_loss: 14.7697 - val_mae: 2.6508\n",
      "Epoch 36/200\n",
      "323/323 [==============================] - 1s 3ms/step - loss: 7.1364 - mae: 1.6806 - val_loss: 15.8094 - val_mae: 2.6009\n",
      "Epoch 37/200\n",
      "323/323 [==============================] - 1s 2ms/step - loss: 7.1798 - mae: 1.7335 - val_loss: 13.8437 - val_mae: 2.8043\n",
      "Epoch 38/200\n",
      "323/323 [==============================] - 1s 2ms/step - loss: 7.2994 - mae: 1.7086 - val_loss: 12.7876 - val_mae: 2.4809\n",
      "Epoch 39/200\n",
      "323/323 [==============================] - 1s 2ms/step - loss: 6.7657 - mae: 1.7064 - val_loss: 15.2782 - val_mae: 2.5062\n",
      "Epoch 40/200\n",
      "323/323 [==============================] - 1s 3ms/step - loss: 6.7506 - mae: 1.7167 - val_loss: 14.1967 - val_mae: 2.5912\n",
      "Epoch 41/200\n",
      "323/323 [==============================] - 1s 3ms/step - loss: 6.5927 - mae: 1.6636 - val_loss: 19.3380 - val_mae: 3.0564\n",
      "Epoch 42/200\n",
      "323/323 [==============================] - 1s 3ms/step - loss: 6.1262 - mae: 1.6738 - val_loss: 14.3877 - val_mae: 2.5715\n",
      "Epoch 43/200\n",
      "323/323 [==============================] - 1s 2ms/step - loss: 6.6771 - mae: 1.6639 - val_loss: 16.3170 - val_mae: 2.6907\n",
      "Epoch 44/200\n",
      "323/323 [==============================] - 1s 2ms/step - loss: 6.2214 - mae: 1.6836 - val_loss: 19.0081 - val_mae: 2.8336\n",
      "Epoch 45/200\n",
      "323/323 [==============================] - 1s 2ms/step - loss: 6.5998 - mae: 1.7098 - val_loss: 17.5580 - val_mae: 2.7241\n",
      "Epoch 46/200\n",
      "323/323 [==============================] - 1s 2ms/step - loss: 5.9724 - mae: 1.6195 - val_loss: 18.2641 - val_mae: 3.1430\n",
      "Epoch 47/200\n",
      "323/323 [==============================] - 1s 2ms/step - loss: 5.9099 - mae: 1.5915 - val_loss: 18.2466 - val_mae: 2.7180\n",
      "Epoch 48/200\n",
      "323/323 [==============================] - 1s 3ms/step - loss: 6.5572 - mae: 1.5934 - val_loss: 13.3320 - val_mae: 2.5869\n",
      "Epoch 49/200\n",
      "323/323 [==============================] - 1s 3ms/step - loss: 5.8552 - mae: 1.6178 - val_loss: 15.3171 - val_mae: 2.7543\n",
      "Epoch 50/200\n",
      "323/323 [==============================] - 1s 3ms/step - loss: 5.8848 - mae: 1.6056 - val_loss: 14.1700 - val_mae: 2.4831\n",
      "Epoch 51/200\n",
      "323/323 [==============================] - 1s 2ms/step - loss: 5.5066 - mae: 1.5635 - val_loss: 15.0262 - val_mae: 2.5465\n",
      "Epoch 52/200\n",
      "323/323 [==============================] - 1s 2ms/step - loss: 5.8067 - mae: 1.5713 - val_loss: 15.9745 - val_mae: 2.6367\n",
      "Epoch 53/200\n",
      "323/323 [==============================] - 1s 2ms/step - loss: 5.7744 - mae: 1.5868 - val_loss: 17.8310 - val_mae: 2.6833\n",
      "Epoch 54/200\n",
      "323/323 [==============================] - 1s 2ms/step - loss: 5.4478 - mae: 1.5656 - val_loss: 12.8864 - val_mae: 2.4877\n",
      "Epoch 55/200\n",
      "323/323 [==============================] - 1s 2ms/step - loss: 5.7160 - mae: 1.5415 - val_loss: 14.5768 - val_mae: 2.6015\n",
      "Epoch 56/200\n",
      "323/323 [==============================] - 1s 3ms/step - loss: 5.4311 - mae: 1.5233 - val_loss: 18.9549 - val_mae: 2.8223\n",
      "Epoch 57/200\n",
      "323/323 [==============================] - 1s 3ms/step - loss: 5.5848 - mae: 1.5273 - val_loss: 17.5575 - val_mae: 2.7196\n",
      "Epoch 58/200\n",
      "323/323 [==============================] - 1s 3ms/step - loss: 5.8242 - mae: 1.5605 - val_loss: 16.0824 - val_mae: 2.6422\n",
      "Epoch 59/200\n",
      "323/323 [==============================] - 1s 2ms/step - loss: 5.3886 - mae: 1.5214 - val_loss: 16.0844 - val_mae: 2.5167\n",
      "Epoch 60/200\n",
      "323/323 [==============================] - 1s 3ms/step - loss: 5.5805 - mae: 1.5042 - val_loss: 15.6596 - val_mae: 2.5642\n",
      "Epoch 61/200\n",
      "323/323 [==============================] - 1s 2ms/step - loss: 5.7984 - mae: 1.4734 - val_loss: 13.6908 - val_mae: 2.4430\n",
      "Epoch 62/200\n",
      "323/323 [==============================] - 1s 2ms/step - loss: 5.3914 - mae: 1.5867 - val_loss: 14.7992 - val_mae: 2.4882\n",
      "Epoch 63/200\n",
      "323/323 [==============================] - 1s 3ms/step - loss: 5.3078 - mae: 1.5497 - val_loss: 14.2582 - val_mae: 2.5446\n",
      "Epoch 64/200\n",
      "323/323 [==============================] - 1s 2ms/step - loss: 5.7122 - mae: 1.5159 - val_loss: 14.2951 - val_mae: 2.4895\n",
      "Epoch 65/200\n",
      "323/323 [==============================] - 1s 2ms/step - loss: 5.3293 - mae: 1.5296 - val_loss: 15.2583 - val_mae: 2.4569\n",
      "Epoch 66/200\n",
      "323/323 [==============================] - 1s 2ms/step - loss: 5.0418 - mae: 1.4814 - val_loss: 14.8901 - val_mae: 2.5146\n",
      "Epoch 67/200\n",
      "323/323 [==============================] - 1s 2ms/step - loss: 5.0652 - mae: 1.4635 - val_loss: 12.4368 - val_mae: 2.4505\n",
      "Epoch 68/200\n",
      "323/323 [==============================] - 1s 2ms/step - loss: 5.1406 - mae: 1.5373 - val_loss: 14.7896 - val_mae: 2.6160\n",
      "Epoch 69/200\n",
      "323/323 [==============================] - 1s 2ms/step - loss: 5.1548 - mae: 1.4901 - val_loss: 14.9754 - val_mae: 2.6306\n",
      "Epoch 70/200\n",
      "323/323 [==============================] - 1s 2ms/step - loss: 4.8791 - mae: 1.4471 - val_loss: 14.6399 - val_mae: 2.5571\n",
      "Epoch 71/200\n",
      "323/323 [==============================] - 1s 3ms/step - loss: 4.9488 - mae: 1.4200 - val_loss: 14.5750 - val_mae: 2.6350\n",
      "Epoch 72/200\n",
      "323/323 [==============================] - 1s 2ms/step - loss: 4.9202 - mae: 1.3967 - val_loss: 15.2041 - val_mae: 2.5610\n",
      "Epoch 73/200\n",
      "323/323 [==============================] - 1s 2ms/step - loss: 4.8306 - mae: 1.4405 - val_loss: 18.3641 - val_mae: 2.8392\n",
      "Epoch 74/200\n",
      "323/323 [==============================] - 1s 2ms/step - loss: 5.0091 - mae: 1.4754 - val_loss: 13.3761 - val_mae: 2.4171\n",
      "Epoch 75/200\n",
      "323/323 [==============================] - 1s 2ms/step - loss: 4.6248 - mae: 1.4523 - val_loss: 13.3995 - val_mae: 2.4702\n",
      "Epoch 76/200\n",
      "323/323 [==============================] - 1s 2ms/step - loss: 4.8219 - mae: 1.4369 - val_loss: 13.7880 - val_mae: 2.4636\n",
      "Epoch 77/200\n",
      "323/323 [==============================] - 1s 2ms/step - loss: 4.8449 - mae: 1.4318 - val_loss: 14.2226 - val_mae: 2.4932\n",
      "Epoch 78/200\n",
      "323/323 [==============================] - 1s 2ms/step - loss: 4.8552 - mae: 1.4191 - val_loss: 14.1690 - val_mae: 2.5470\n",
      "Epoch 79/200\n",
      "323/323 [==============================] - 1s 2ms/step - loss: 4.7796 - mae: 1.4266 - val_loss: 13.1693 - val_mae: 2.5819\n",
      "Epoch 80/200\n",
      "323/323 [==============================] - 1s 2ms/step - loss: 4.7951 - mae: 1.4433 - val_loss: 13.3958 - val_mae: 2.6181\n",
      "Epoch 81/200\n",
      "323/323 [==============================] - 1s 2ms/step - loss: 4.8619 - mae: 1.4218 - val_loss: 13.1307 - val_mae: 2.5482\n",
      "Epoch 82/200\n",
      "323/323 [==============================] - 1s 2ms/step - loss: 4.4422 - mae: 1.3609 - val_loss: 12.1924 - val_mae: 2.5553\n",
      "Epoch 83/200\n",
      "323/323 [==============================] - 1s 2ms/step - loss: 4.6220 - mae: 1.4104 - val_loss: 15.4642 - val_mae: 2.6028\n",
      "Epoch 84/200\n",
      "323/323 [==============================] - 1s 2ms/step - loss: 4.3604 - mae: 1.4226 - val_loss: 12.8831 - val_mae: 2.5048\n",
      "Epoch 85/200\n",
      "323/323 [==============================] - 1s 2ms/step - loss: 4.5734 - mae: 1.3415 - val_loss: 13.7162 - val_mae: 2.6807\n",
      "Epoch 86/200\n",
      "323/323 [==============================] - 1s 2ms/step - loss: 4.5493 - mae: 1.4347 - val_loss: 16.2818 - val_mae: 2.6503\n",
      "Epoch 87/200\n",
      "323/323 [==============================] - 1s 2ms/step - loss: 4.4578 - mae: 1.3703 - val_loss: 15.3435 - val_mae: 2.6238\n",
      "Epoch 88/200\n",
      "323/323 [==============================] - 1s 2ms/step - loss: 4.2184 - mae: 1.3579 - val_loss: 13.3179 - val_mae: 2.5217\n",
      "Epoch 89/200\n",
      "323/323 [==============================] - 1s 2ms/step - loss: 4.4554 - mae: 1.3715 - val_loss: 15.0490 - val_mae: 2.5076\n",
      "Epoch 90/200\n",
      "323/323 [==============================] - 1s 3ms/step - loss: 4.0563 - mae: 1.3285 - val_loss: 11.8725 - val_mae: 2.4897\n",
      "Epoch 91/200\n",
      "323/323 [==============================] - 1s 3ms/step - loss: 4.1804 - mae: 1.3242 - val_loss: 12.8051 - val_mae: 2.5036\n",
      "Epoch 92/200\n",
      "323/323 [==============================] - 1s 3ms/step - loss: 4.1712 - mae: 1.3190 - val_loss: 15.5422 - val_mae: 2.6131\n",
      "Epoch 93/200\n",
      "323/323 [==============================] - 1s 2ms/step - loss: 4.1979 - mae: 1.3585 - val_loss: 13.0353 - val_mae: 2.5678\n",
      "Epoch 94/200\n",
      "323/323 [==============================] - 1s 2ms/step - loss: 4.0579 - mae: 1.3801 - val_loss: 14.8252 - val_mae: 2.6099\n",
      "Epoch 95/200\n",
      "323/323 [==============================] - 1s 2ms/step - loss: 4.0163 - mae: 1.3567 - val_loss: 13.5230 - val_mae: 2.5532\n",
      "Epoch 96/200\n",
      "323/323 [==============================] - 1s 2ms/step - loss: 4.1604 - mae: 1.3864 - val_loss: 13.5059 - val_mae: 2.4983\n",
      "Epoch 97/200\n",
      "323/323 [==============================] - 1s 2ms/step - loss: 4.0541 - mae: 1.3114 - val_loss: 18.0816 - val_mae: 2.8454\n",
      "Epoch 98/200\n",
      "323/323 [==============================] - 1s 2ms/step - loss: 4.0313 - mae: 1.3592 - val_loss: 19.7859 - val_mae: 3.0399\n",
      "Epoch 99/200\n",
      "323/323 [==============================] - 1s 2ms/step - loss: 4.2742 - mae: 1.3270 - val_loss: 15.1035 - val_mae: 2.6828\n",
      "Epoch 100/200\n",
      "323/323 [==============================] - 1s 2ms/step - loss: 3.9639 - mae: 1.3635 - val_loss: 14.6702 - val_mae: 2.5090\n",
      "Epoch 101/200\n",
      "323/323 [==============================] - 1s 2ms/step - loss: 4.1652 - mae: 1.3222 - val_loss: 13.5104 - val_mae: 2.5265\n",
      "Epoch 102/200\n",
      "323/323 [==============================] - 1s 2ms/step - loss: 3.8949 - mae: 1.2575 - val_loss: 14.3239 - val_mae: 2.6726\n",
      "Epoch 103/200\n",
      "323/323 [==============================] - 1s 2ms/step - loss: 4.0493 - mae: 1.3612 - val_loss: 12.0776 - val_mae: 2.5496\n",
      "Epoch 104/200\n",
      "323/323 [==============================] - 1s 2ms/step - loss: 3.8942 - mae: 1.3206 - val_loss: 13.5922 - val_mae: 2.5513\n",
      "Epoch 105/200\n",
      "323/323 [==============================] - 1s 2ms/step - loss: 3.8517 - mae: 1.3400 - val_loss: 12.9522 - val_mae: 2.4553\n",
      "Epoch 106/200\n",
      "323/323 [==============================] - 1s 2ms/step - loss: 3.7015 - mae: 1.3168 - val_loss: 12.7867 - val_mae: 2.4215\n",
      "Epoch 107/200\n",
      "323/323 [==============================] - 1s 2ms/step - loss: 3.5763 - mae: 1.2647 - val_loss: 20.7101 - val_mae: 2.9209\n",
      "Epoch 108/200\n",
      "323/323 [==============================] - 1s 2ms/step - loss: 3.6277 - mae: 1.3190 - val_loss: 14.4650 - val_mae: 2.5362\n",
      "Epoch 109/200\n",
      "323/323 [==============================] - 1s 2ms/step - loss: 3.9210 - mae: 1.3105 - val_loss: 12.9634 - val_mae: 2.4390\n",
      "Epoch 110/200\n",
      "323/323 [==============================] - 1s 2ms/step - loss: 3.7156 - mae: 1.2621 - val_loss: 12.9008 - val_mae: 2.5524\n",
      "Epoch 111/200\n",
      "323/323 [==============================] - 1s 2ms/step - loss: 3.6338 - mae: 1.3156 - val_loss: 12.6582 - val_mae: 2.5504\n",
      "Epoch 112/200\n",
      "323/323 [==============================] - 1s 2ms/step - loss: 3.8798 - mae: 1.3378 - val_loss: 12.4589 - val_mae: 2.5207\n",
      "Epoch 113/200\n",
      "323/323 [==============================] - 1s 2ms/step - loss: 3.7888 - mae: 1.2870 - val_loss: 15.0781 - val_mae: 2.6719\n",
      "Epoch 114/200\n",
      "323/323 [==============================] - 1s 2ms/step - loss: 3.7435 - mae: 1.2457 - val_loss: 13.8376 - val_mae: 2.6152\n",
      "Epoch 115/200\n",
      "323/323 [==============================] - 1s 2ms/step - loss: 3.4168 - mae: 1.2749 - val_loss: 13.6207 - val_mae: 2.5887\n",
      "Epoch 116/200\n",
      "323/323 [==============================] - 1s 2ms/step - loss: 3.6530 - mae: 1.2699 - val_loss: 13.5946 - val_mae: 2.6715\n",
      "Epoch 117/200\n",
      "323/323 [==============================] - 1s 2ms/step - loss: 3.3588 - mae: 1.2552 - val_loss: 16.3843 - val_mae: 2.7403\n",
      "Epoch 118/200\n",
      "323/323 [==============================] - 1s 2ms/step - loss: 3.6359 - mae: 1.2999 - val_loss: 14.7999 - val_mae: 2.5542\n",
      "Epoch 119/200\n",
      "323/323 [==============================] - 1s 2ms/step - loss: 3.5173 - mae: 1.2853 - val_loss: 16.4631 - val_mae: 2.7424\n",
      "Epoch 120/200\n",
      "323/323 [==============================] - 1s 2ms/step - loss: 3.6395 - mae: 1.1950 - val_loss: 16.6672 - val_mae: 2.7197\n",
      "Epoch 121/200\n",
      "323/323 [==============================] - 1s 2ms/step - loss: 3.5686 - mae: 1.2699 - val_loss: 15.0979 - val_mae: 2.7449\n",
      "Epoch 122/200\n",
      "323/323 [==============================] - 1s 2ms/step - loss: 3.7781 - mae: 1.2829 - val_loss: 14.3356 - val_mae: 2.5331\n",
      "Epoch 123/200\n",
      "323/323 [==============================] - 1s 2ms/step - loss: 3.5583 - mae: 1.2286 - val_loss: 13.9586 - val_mae: 2.5311\n",
      "Epoch 124/200\n",
      "323/323 [==============================] - 1s 2ms/step - loss: 3.7096 - mae: 1.2499 - val_loss: 13.4213 - val_mae: 2.5136\n",
      "Epoch 125/200\n",
      "323/323 [==============================] - 1s 2ms/step - loss: 3.5509 - mae: 1.2070 - val_loss: 15.2702 - val_mae: 2.5808\n",
      "Epoch 126/200\n",
      "323/323 [==============================] - 1s 2ms/step - loss: 3.3627 - mae: 1.2239 - val_loss: 12.4302 - val_mae: 2.5125\n",
      "Epoch 127/200\n",
      "323/323 [==============================] - 1s 3ms/step - loss: 3.4778 - mae: 1.2257 - val_loss: 18.2466 - val_mae: 2.8419\n",
      "Epoch 128/200\n",
      "323/323 [==============================] - 1s 3ms/step - loss: 3.3381 - mae: 1.2836 - val_loss: 13.9968 - val_mae: 2.5279\n",
      "Epoch 129/200\n",
      "323/323 [==============================] - 1s 2ms/step - loss: 3.3392 - mae: 1.2946 - val_loss: 12.9121 - val_mae: 2.4833\n",
      "Epoch 130/200\n",
      "323/323 [==============================] - 1s 2ms/step - loss: 3.5036 - mae: 1.2442 - val_loss: 14.7804 - val_mae: 2.6739\n",
      "Epoch 131/200\n",
      "323/323 [==============================] - 1s 2ms/step - loss: 3.2941 - mae: 1.2071 - val_loss: 16.9883 - val_mae: 2.6743\n",
      "Epoch 132/200\n",
      "323/323 [==============================] - 1s 3ms/step - loss: 3.3290 - mae: 1.2166 - val_loss: 15.1387 - val_mae: 2.6509\n",
      "Epoch 133/200\n",
      "323/323 [==============================] - 1s 2ms/step - loss: 3.7825 - mae: 1.2493 - val_loss: 18.9093 - val_mae: 3.1040\n",
      "Epoch 134/200\n",
      "323/323 [==============================] - 1s 2ms/step - loss: 3.0866 - mae: 1.1801 - val_loss: 16.1871 - val_mae: 2.5704\n",
      "Epoch 135/200\n",
      "323/323 [==============================] - 1s 2ms/step - loss: 3.3879 - mae: 1.2251 - val_loss: 15.2674 - val_mae: 2.5462\n",
      "Epoch 136/200\n",
      "323/323 [==============================] - 1s 3ms/step - loss: 3.4586 - mae: 1.2420 - val_loss: 16.9162 - val_mae: 2.7109\n",
      "Epoch 137/200\n",
      "323/323 [==============================] - 1s 3ms/step - loss: 3.3501 - mae: 1.2118 - val_loss: 14.8542 - val_mae: 2.6679\n",
      "Epoch 138/200\n",
      "323/323 [==============================] - 1s 2ms/step - loss: 3.1000 - mae: 1.2145 - val_loss: 14.0844 - val_mae: 2.6142\n",
      "Epoch 139/200\n",
      "323/323 [==============================] - 1s 2ms/step - loss: 3.2787 - mae: 1.1892 - val_loss: 13.8764 - val_mae: 2.5020\n",
      "Epoch 140/200\n",
      "323/323 [==============================] - 1s 2ms/step - loss: 3.0890 - mae: 1.1795 - val_loss: 18.3507 - val_mae: 2.8686\n",
      "Epoch 141/200\n",
      "323/323 [==============================] - 1s 2ms/step - loss: 3.2965 - mae: 1.1498 - val_loss: 13.4073 - val_mae: 2.5336\n",
      "Epoch 142/200\n",
      "323/323 [==============================] - 1s 2ms/step - loss: 2.8461 - mae: 1.1458 - val_loss: 16.5244 - val_mae: 2.9407\n",
      "Epoch 143/200\n",
      "323/323 [==============================] - 1s 2ms/step - loss: 3.0071 - mae: 1.1513 - val_loss: 17.4082 - val_mae: 2.7610\n",
      "Epoch 144/200\n",
      "323/323 [==============================] - 1s 2ms/step - loss: 3.2829 - mae: 1.2284 - val_loss: 15.6870 - val_mae: 2.6952\n",
      "Epoch 145/200\n",
      "323/323 [==============================] - 1s 2ms/step - loss: 3.0432 - mae: 1.1991 - val_loss: 12.9567 - val_mae: 2.4920\n",
      "Epoch 146/200\n",
      "323/323 [==============================] - 1s 2ms/step - loss: 3.1535 - mae: 1.1859 - val_loss: 13.8975 - val_mae: 2.5792\n",
      "Epoch 147/200\n",
      "323/323 [==============================] - 1s 2ms/step - loss: 3.2056 - mae: 1.1967 - val_loss: 14.3888 - val_mae: 2.5753\n",
      "Epoch 148/200\n",
      "323/323 [==============================] - 1s 2ms/step - loss: 2.9771 - mae: 1.1436 - val_loss: 15.0819 - val_mae: 2.5730\n",
      "Epoch 149/200\n",
      "323/323 [==============================] - 1s 2ms/step - loss: 3.1113 - mae: 1.2025 - val_loss: 15.3037 - val_mae: 2.6035\n",
      "Epoch 150/200\n",
      "323/323 [==============================] - 1s 3ms/step - loss: 2.9838 - mae: 1.2196 - val_loss: 17.1797 - val_mae: 2.7324\n",
      "Epoch 151/200\n",
      "323/323 [==============================] - 1s 2ms/step - loss: 3.0723 - mae: 1.1802 - val_loss: 14.5606 - val_mae: 2.5525\n",
      "Epoch 152/200\n",
      "323/323 [==============================] - 1s 2ms/step - loss: 3.0710 - mae: 1.1824 - val_loss: 14.2513 - val_mae: 2.5197\n",
      "Epoch 153/200\n",
      "323/323 [==============================] - 1s 2ms/step - loss: 3.0715 - mae: 1.2357 - val_loss: 14.2575 - val_mae: 2.5702\n",
      "Epoch 154/200\n",
      "323/323 [==============================] - 1s 2ms/step - loss: 2.7784 - mae: 1.1371 - val_loss: 14.6963 - val_mae: 2.6637\n",
      "Epoch 155/200\n",
      "323/323 [==============================] - 1s 2ms/step - loss: 3.0247 - mae: 1.1463 - val_loss: 13.4429 - val_mae: 2.4725\n",
      "Epoch 156/200\n",
      "323/323 [==============================] - 1s 2ms/step - loss: 3.0866 - mae: 1.1451 - val_loss: 15.9476 - val_mae: 2.6612\n",
      "Epoch 157/200\n",
      "323/323 [==============================] - 1s 2ms/step - loss: 2.8726 - mae: 1.1530 - val_loss: 15.7354 - val_mae: 2.8414\n",
      "Epoch 158/200\n",
      "323/323 [==============================] - 1s 2ms/step - loss: 2.8802 - mae: 1.1286 - val_loss: 13.4922 - val_mae: 2.6068\n",
      "Epoch 159/200\n",
      "323/323 [==============================] - 1s 2ms/step - loss: 2.9426 - mae: 1.1594 - val_loss: 15.7218 - val_mae: 2.6968\n",
      "Epoch 160/200\n",
      "323/323 [==============================] - 1s 2ms/step - loss: 2.9247 - mae: 1.1481 - val_loss: 15.2916 - val_mae: 2.7235\n",
      "Epoch 161/200\n",
      "323/323 [==============================] - 1s 2ms/step - loss: 2.9597 - mae: 1.1578 - val_loss: 15.5155 - val_mae: 2.6826\n",
      "Epoch 162/200\n",
      "323/323 [==============================] - 1s 2ms/step - loss: 2.8693 - mae: 1.1574 - val_loss: 18.4543 - val_mae: 2.8606\n",
      "Epoch 163/200\n",
      "323/323 [==============================] - 1s 2ms/step - loss: 3.0226 - mae: 1.2160 - val_loss: 13.7888 - val_mae: 2.5942\n",
      "Epoch 164/200\n",
      "323/323 [==============================] - 1s 2ms/step - loss: 2.7437 - mae: 1.1531 - val_loss: 13.1501 - val_mae: 2.4982\n",
      "Epoch 165/200\n",
      "323/323 [==============================] - 1s 2ms/step - loss: 2.8061 - mae: 1.1532 - val_loss: 17.1989 - val_mae: 2.7164\n",
      "Epoch 166/200\n",
      "323/323 [==============================] - 1s 2ms/step - loss: 3.0074 - mae: 1.1380 - val_loss: 17.9570 - val_mae: 2.8792\n",
      "Epoch 167/200\n",
      "323/323 [==============================] - 1s 2ms/step - loss: 2.6678 - mae: 1.1302 - val_loss: 15.9035 - val_mae: 2.6977\n",
      "Epoch 168/200\n",
      "323/323 [==============================] - 1s 2ms/step - loss: 2.7257 - mae: 1.1325 - val_loss: 14.8035 - val_mae: 2.5762\n",
      "Epoch 169/200\n",
      "323/323 [==============================] - 1s 2ms/step - loss: 2.6487 - mae: 1.0883 - val_loss: 17.1867 - val_mae: 2.7925\n",
      "Epoch 170/200\n",
      "323/323 [==============================] - 1s 2ms/step - loss: 2.7783 - mae: 1.1393 - val_loss: 16.9694 - val_mae: 2.8519\n",
      "Epoch 171/200\n",
      "323/323 [==============================] - 1s 2ms/step - loss: 2.8328 - mae: 1.1274 - val_loss: 16.9578 - val_mae: 2.7659\n",
      "Epoch 172/200\n",
      "323/323 [==============================] - 1s 2ms/step - loss: 2.7434 - mae: 1.1264 - val_loss: 17.4429 - val_mae: 2.8042\n",
      "Epoch 173/200\n",
      "323/323 [==============================] - 1s 2ms/step - loss: 2.7410 - mae: 1.1184 - val_loss: 15.1062 - val_mae: 2.7298\n",
      "Epoch 174/200\n",
      "323/323 [==============================] - 1s 2ms/step - loss: 2.7030 - mae: 1.1329 - val_loss: 15.0673 - val_mae: 2.7202\n",
      "Epoch 175/200\n",
      "323/323 [==============================] - 1s 2ms/step - loss: 2.5453 - mae: 1.0835 - val_loss: 14.0293 - val_mae: 2.5998\n",
      "Epoch 176/200\n",
      "323/323 [==============================] - 1s 2ms/step - loss: 2.6336 - mae: 1.1306 - val_loss: 15.7805 - val_mae: 2.7169\n",
      "Epoch 177/200\n",
      "323/323 [==============================] - 1s 2ms/step - loss: 2.6254 - mae: 1.0836 - val_loss: 14.2829 - val_mae: 2.6352\n",
      "Epoch 178/200\n",
      "323/323 [==============================] - 1s 2ms/step - loss: 2.5166 - mae: 1.1295 - val_loss: 15.2317 - val_mae: 2.6616\n",
      "Epoch 179/200\n",
      "323/323 [==============================] - 1s 2ms/step - loss: 2.3175 - mae: 1.0946 - val_loss: 14.7052 - val_mae: 2.7423\n",
      "Epoch 180/200\n",
      "323/323 [==============================] - 1s 2ms/step - loss: 2.7360 - mae: 1.1359 - val_loss: 15.1166 - val_mae: 2.6192\n",
      "Epoch 181/200\n",
      "323/323 [==============================] - 1s 2ms/step - loss: 2.2413 - mae: 1.0238 - val_loss: 15.2996 - val_mae: 2.6291\n",
      "Epoch 182/200\n",
      "323/323 [==============================] - 1s 2ms/step - loss: 2.4405 - mae: 1.0601 - val_loss: 14.4921 - val_mae: 2.7065\n",
      "Epoch 183/200\n",
      "323/323 [==============================] - 1s 2ms/step - loss: 2.5427 - mae: 1.1612 - val_loss: 15.3099 - val_mae: 2.6821\n",
      "Epoch 184/200\n",
      "323/323 [==============================] - 1s 2ms/step - loss: 2.8308 - mae: 1.1503 - val_loss: 13.8207 - val_mae: 2.7000\n",
      "Epoch 185/200\n",
      "323/323 [==============================] - 1s 2ms/step - loss: 2.4599 - mae: 1.0716 - val_loss: 17.4002 - val_mae: 2.9409\n",
      "Epoch 186/200\n",
      "323/323 [==============================] - 1s 2ms/step - loss: 2.6380 - mae: 1.0899 - val_loss: 18.4558 - val_mae: 3.2356\n",
      "Epoch 187/200\n",
      "323/323 [==============================] - 1s 2ms/step - loss: 2.4916 - mae: 1.0736 - val_loss: 16.0834 - val_mae: 2.9294\n",
      "Epoch 188/200\n",
      "323/323 [==============================] - 1s 2ms/step - loss: 2.2821 - mae: 1.0355 - val_loss: 16.6587 - val_mae: 2.8057\n",
      "Epoch 189/200\n",
      "323/323 [==============================] - 1s 2ms/step - loss: 2.5048 - mae: 1.0770 - val_loss: 17.6491 - val_mae: 3.0921\n",
      "Epoch 190/200\n",
      "323/323 [==============================] - 1s 2ms/step - loss: 2.5154 - mae: 1.0925 - val_loss: 13.5352 - val_mae: 2.5757\n",
      "Epoch 191/200\n",
      "323/323 [==============================] - 1s 2ms/step - loss: 2.5646 - mae: 1.1094 - val_loss: 13.9725 - val_mae: 2.6361\n",
      "Epoch 192/200\n",
      "323/323 [==============================] - 1s 2ms/step - loss: 2.5962 - mae: 1.0850 - val_loss: 15.3748 - val_mae: 2.7937\n",
      "Epoch 193/200\n",
      "323/323 [==============================] - 1s 2ms/step - loss: 2.3244 - mae: 1.0688 - val_loss: 14.4735 - val_mae: 2.7705\n",
      "Epoch 194/200\n",
      "323/323 [==============================] - 1s 2ms/step - loss: 2.3113 - mae: 1.0686 - val_loss: 15.3339 - val_mae: 2.7230\n",
      "Epoch 195/200\n",
      "323/323 [==============================] - 1s 2ms/step - loss: 2.5193 - mae: 1.1109 - val_loss: 15.4383 - val_mae: 2.7327\n",
      "Epoch 196/200\n",
      "323/323 [==============================] - 1s 2ms/step - loss: 2.4241 - mae: 1.1057 - val_loss: 16.2001 - val_mae: 2.9080\n",
      "Epoch 197/200\n",
      "323/323 [==============================] - 1s 2ms/step - loss: 2.2089 - mae: 1.0414 - val_loss: 13.9481 - val_mae: 2.5771\n",
      "Epoch 198/200\n",
      "323/323 [==============================] - 1s 2ms/step - loss: 2.4792 - mae: 1.1078 - val_loss: 13.5601 - val_mae: 2.6034\n",
      "Epoch 199/200\n",
      "323/323 [==============================] - 1s 2ms/step - loss: 2.4917 - mae: 1.0939 - val_loss: 14.2589 - val_mae: 2.6368\n",
      "Epoch 200/200\n",
      "323/323 [==============================] - 1s 2ms/step - loss: 2.3907 - mae: 1.0657 - val_loss: 15.3648 - val_mae: 2.6971\n"
     ]
    },
    {
     "data": {
      "text/plain": [
       "<keras.src.callbacks.History at 0x24536a7bb80>"
      ]
     },
     "execution_count": 18,
     "metadata": {},
     "output_type": "execute_result"
    }
   ],
   "source": [
    "bh.train(x_data,train_labels)"
   ]
  },
  {
   "cell_type": "code",
   "execution_count": 19,
   "metadata": {},
   "outputs": [
    {
     "data": {
      "image/png": "[encoded data removed]",
      "text/plain": [
       "<Figure size 640x480 with 1 Axes>"
      ]
     },
     "metadata": {},
     "output_type": "display_data"
    }
   ],
   "source": [
    "bh.visualize()"
   ]
  },
  {
   "cell_type": "code",
   "execution_count": 20,
   "metadata": {},
   "outputs": [
    {
     "name": "stdout",
     "output_type": "stream",
     "text": [
      "4/4 [==============================] - 0s 2ms/step\n",
      "[[1962.6259 ]\n",
      " [1526.9274 ]\n",
      " [1017.0626 ]\n",
      " [1534.4081 ]\n",
      " [1050.0192 ]\n",
      " [1280.6053 ]\n",
      " [1236.8835 ]\n",
      " [1058.0643 ]\n",
      " [ 997.8327 ]\n",
      " [2269.0696 ]\n",
      " [1299.7467 ]\n",
      " [1260.2753 ]\n",
      " [1548.1986 ]\n",
      " [1008.10504]\n",
      " [2211.9465 ]\n",
      " [1129.174  ]\n",
      " [1037.9042 ]\n",
      " [1406.1608 ]\n",
      " [2276.154  ]\n",
      " [2320.5227 ]\n",
      " [2200.716  ]\n",
      " [1843.5331 ]\n",
      " [1073.378  ]\n",
      " [1143.9742 ]\n",
      " [1103.8773 ]\n",
      " [2276.5078 ]\n",
      " [1207.8142 ]\n",
      " [ 926.3057 ]\n",
      " [1964.3104 ]\n",
      " [1141.8291 ]\n",
      " [1509.49   ]\n",
      " [1982.9966 ]\n",
      " [1024.9882 ]\n",
      " [1028.0521 ]\n",
      " [2215.8645 ]\n",
      " [2133.2278 ]\n",
      " [1385.1962 ]\n",
      " [1420.8293 ]\n",
      " [2354.9941 ]\n",
      " [1092.7112 ]\n",
      " [1007.6693 ]\n",
      " [1053.947  ]\n",
      " [2294.6597 ]\n",
      " [1076.8834 ]\n",
      " [1075.6783 ]\n",
      " [ 962.10266]\n",
      " [ 939.13904]\n",
      " [1143.2025 ]\n",
      " [2343.8054 ]\n",
      " [1065.0049 ]\n",
      " [1024.0056 ]\n",
      " [1096.3259 ]\n",
      " [2218.8008 ]\n",
      " [1217.2147 ]\n",
      " [1313.0643 ]\n",
      " [1063.1395 ]\n",
      " [2271.2358 ]\n",
      " [1032.9475 ]\n",
      " [1033.2216 ]\n",
      " [1104.0157 ]\n",
      " [2261.2776 ]\n",
      " [2301.1685 ]\n",
      " [2057.6477 ]\n",
      " [1360.7247 ]\n",
      " [1134.1145 ]\n",
      " [1144.6759 ]\n",
      " [2215.848  ]\n",
      " [1095.5574 ]\n",
      " [2191.2615 ]\n",
      " [2201.8567 ]\n",
      " [2323.1648 ]\n",
      " [1122.8605 ]\n",
      " [2326.0273 ]\n",
      " [2265.5667 ]\n",
      " [1085.0254 ]\n",
      " [1196.1263 ]\n",
      " [1165.578  ]\n",
      " [1030.9432 ]\n",
      " [ 958.08417]\n",
      " [2166.4392 ]\n",
      " [1154.8643 ]\n",
      " [1103.1385 ]\n",
      " [1208.7247 ]\n",
      " [2285.1213 ]\n",
      " [1199.9313 ]\n",
      " [1194.351  ]\n",
      " [2300.1877 ]\n",
      " [1140.69   ]\n",
      " [1112.993  ]\n",
      " [2339.4802 ]\n",
      " [1040.149  ]\n",
      " [1305.5085 ]\n",
      " [1081.0382 ]\n",
      " [1128.1305 ]\n",
      " [ 950.065  ]\n",
      " [1464.0405 ]\n",
      " [1123.7922 ]\n",
      " [2345.1262 ]\n",
      " [1310.0398 ]\n",
      " [1582.3639 ]\n",
      " [1247.3553 ]\n",
      " [1504.9418 ]]\n"
     ]
    }
   ],
   "source": [
    "predictions=bh.predict(test_data)\n",
    "print(predictions)"
   ]
  },
  {
   "cell_type": "code",
   "execution_count": 21,
   "metadata": {},
   "outputs": [
    {
     "data": {
      "text/plain": [
       "array([ 7.2, 18.8, 19. , 27. , 22.2, 24.5, 31.2, 22.9, 20.5, 23.2, 18.6,\n",
       "       14.5, 17.8, 50. , 20.8, 24.3, 24.2, 19.8, 19.1, 22.7, 12. , 10.2,\n",
       "       20. , 18.5, 20.9, 23. , 27.5, 30.1,  9.5, 22. , 21.2, 14.1, 33.1,\n",
       "       23.4, 20.1,  7.4, 15.4, 23.8, 20.1, 24.5, 33. , 28.4, 14.1, 46.7,\n",
       "       32.5, 29.6, 28.4, 19.8, 20.2, 25. , 35.4, 20.3,  9.7, 14.5, 34.9,\n",
       "       26.6,  7.2, 50. , 32.4, 21.6, 29.8, 13.1, 27.5, 21.2, 23.1, 21.9,\n",
       "       13. , 23.2,  8.1,  5.6, 21.7, 29.6, 19.6,  7. , 26.4, 18.9, 20.9,\n",
       "       28.1, 35.4, 10.2, 24.3, 43.1, 17.6, 15.4, 16.2, 27.1, 21.4, 21.5,\n",
       "       22.4, 25. , 16.6, 18.6, 22. , 42.8, 35.1, 21.5, 36. , 21.9, 24.1,\n",
       "       50. , 26.7, 25. ])"
      ]
     },
     "execution_count": 21,
     "metadata": {},
     "output_type": "execute_result"
    }
   ],
   "source": [
    "test_labels"
   ]
  },
  {
   "cell_type": "code",
   "execution_count": 22,
   "metadata": {},
   "outputs": [
    {
     "data": {
      "text/plain": [
       "15.2"
      ]
     },
     "execution_count": 22,
     "metadata": {},
     "output_type": "execute_result"
    }
   ],
   "source": [
    "train_labels[0]"
   ]
  },
  {
   "cell_type": "code",
   "execution_count": 23,
   "metadata": {},
   "outputs": [
    {
     "data": {
      "text/plain": [
       "array([[-0.27224633, -0.48361547, -0.43576161, ...,  1.14850044,\n",
       "         0.44807713,  0.8252202 ],\n",
       "       [-0.40342651,  2.99178419, -1.33391162, ..., -1.71818909,\n",
       "         0.43190599, -1.32920239],\n",
       "       [ 0.1249402 , -0.48361547,  1.0283258 , ...,  0.78447637,\n",
       "         0.22061726, -1.30850006],\n",
       "       ...,\n",
       "       [-0.40202987,  0.99079651, -0.7415148 , ..., -0.71712291,\n",
       "         0.07943894, -0.67776904],\n",
       "       [-0.17292018, -0.48361547,  1.24588095, ..., -1.71818909,\n",
       "        -0.98764362,  0.42083466],\n",
       "       [-0.40422614,  2.04394792, -1.20161456, ..., -1.30866202,\n",
       "         0.23317118, -1.15392266]])"
      ]
     },
     "execution_count": 23,
     "metadata": {},
     "output_type": "execute_result"
    }
   ],
   "source": [
    "x_data"
   ]
  },
  {
   "cell_type": "markdown",
   "metadata": {},
   "source": [
    "Reuters"
   ]
  },
  {
   "cell_type": "code",
   "execution_count": 25,
   "metadata": {},
   "outputs": [
    {
     "name": "stdout",
     "output_type": "stream",
     "text": [
      "Epoch 1/10\n",
      "281/281 [==============================] - 14s 49ms/step - loss: 1.2465 - accuracy: 0.7305 - val_loss: 0.8660 - val_accuracy: 0.8005\n",
      "Epoch 2/10\n",
      "281/281 [==============================] - 13s 45ms/step - loss: 0.4858 - accuracy: 0.8888 - val_loss: 0.8313 - val_accuracy: 0.8134\n",
      "Epoch 3/10\n",
      "281/281 [==============================] - 13s 45ms/step - loss: 0.2927 - accuracy: 0.9325 - val_loss: 0.8927 - val_accuracy: 0.8157\n",
      "Epoch 4/10\n",
      "281/281 [==============================] - 13s 48ms/step - loss: 0.2369 - accuracy: 0.9430 - val_loss: 0.9459 - val_accuracy: 0.8085\n",
      "Epoch 5/10\n",
      "281/281 [==============================] - 14s 48ms/step - loss: 0.2163 - accuracy: 0.9478 - val_loss: 0.9829 - val_accuracy: 0.8134\n",
      "Epoch 6/10\n",
      "281/281 [==============================] - 13s 46ms/step - loss: 0.2113 - accuracy: 0.9505 - val_loss: 1.0068 - val_accuracy: 0.8019\n",
      "Epoch 7/10\n",
      "281/281 [==============================] - 13s 48ms/step - loss: 0.2042 - accuracy: 0.9512 - val_loss: 1.0149 - val_accuracy: 0.7992\n",
      "Epoch 8/10\n",
      "281/281 [==============================] - 14s 48ms/step - loss: 0.1958 - accuracy: 0.9550 - val_loss: 1.0235 - val_accuracy: 0.8103\n",
      "Epoch 9/10\n",
      "281/281 [==============================] - 13s 46ms/step - loss: 0.1722 - accuracy: 0.9532 - val_loss: 1.0898 - val_accuracy: 0.7979\n",
      "Epoch 10/10\n",
      "281/281 [==============================] - 13s 48ms/step - loss: 0.1828 - accuracy: 0.9535 - val_loss: 1.0636 - val_accuracy: 0.8014\n"
     ]
    }
   ],
   "source": [
    "import reuters as r\n",
    "\n",
    "classifier = r.ReutersClassifier()\n",
    "x_train, y_train, x_test, y_test = classifier.load_data()\n",
    "classifier.build_model(input_dim=10000, output_dim=len(y_train[0]))\n",
    "classifier.train_model(x_train, y_train, epochs=10, batch_size=32, validation_data=(x_test, y_test))"
   ]
  },
  {
   "cell_type": "code",
   "execution_count": 26,
   "metadata": {},
   "outputs": [
    {
     "name": "stdout",
     "output_type": "stream",
     "text": [
      "1/1 [==============================] - 0s 88ms/step\n",
      "Example 1:\n",
      "Predicted probabilities: [1.0510442e-05 4.2618267e-05 6.5299446e-07 9.2537904e-01 6.6490747e-02\n",
      " 2.6783571e-08 2.4311494e-05 1.2853466e-05 2.7006955e-03 1.4251621e-05\n",
      " 1.5519327e-05 4.4699779e-04 2.5256470e-06 1.2331615e-04 1.1462256e-06\n",
      " 2.5999791e-06 2.6333146e-04 7.2919738e-06 3.5460191e-05 8.9429109e-04\n",
      " 2.4501486e-03 3.6455508e-04 1.8719729e-06 4.4531032e-05 8.0735845e-07\n",
      " 6.5353424e-06 1.0849441e-06 2.9561304e-06 3.4837879e-06 2.9247614e-05\n",
      " 6.0885333e-05 1.9932977e-06 2.1034048e-05 4.5566188e-07 2.8110451e-05\n",
      " 1.3551407e-06 2.5556670e-04 1.3579986e-06 1.1347320e-05 2.2641763e-04\n",
      " 2.7324099e-06 1.3676077e-05 3.0443815e-07 5.9139256e-07 1.7002128e-07\n",
      " 6.0400004e-07]\n",
      "Predicted label index: 3\n",
      "Actual label index: 3\n",
      "-----\n",
      "Example 2:\n",
      "Predicted probabilities: [8.35346174e-04 2.54907385e-02 1.15874130e-03 1.90499795e-05\n",
      " 1.10030985e-02 1.15317242e-04 3.46698507e-04 5.47845730e-06\n",
      " 5.50307050e-05 2.20477246e-04 9.43226337e-01 1.48199251e-04\n",
      " 1.76030317e-05 1.70696570e-04 2.33826402e-04 3.48671252e-04\n",
      " 2.38573225e-03 5.92753713e-05 1.22729733e-04 4.76061041e-03\n",
      " 5.20586851e-04 8.72658711e-05 8.28416727e-04 2.95774342e-04\n",
      " 2.57349369e-04 2.72705583e-05 6.09255767e-05 1.68180355e-04\n",
      " 7.66761514e-05 8.88651703e-05 1.04836308e-05 2.78349151e-04\n",
      " 2.65164010e-04 3.41908390e-06 8.80851949e-05 1.60975253e-06\n",
      " 4.43768768e-05 8.39737695e-05 2.58922810e-05 4.22791985e-04\n",
      " 2.43686023e-04 5.27778640e-03 1.48427598e-05 1.29607315e-06\n",
      " 1.87748458e-06 1.01465324e-04]\n",
      "Predicted label index: 10\n",
      "Actual label index: 10\n",
      "-----\n",
      "Example 3:\n",
      "Predicted probabilities: [9.16905701e-04 9.63964939e-01 2.01169023e-04 3.96095449e-03\n",
      " 2.74344697e-04 9.84853599e-04 4.13870381e-04 5.02674156e-05\n",
      " 1.08552464e-04 2.08972939e-04 5.67658455e-04 1.75746949e-03\n",
      " 1.12878706e-05 3.13055934e-03 4.05198080e-04 6.98983495e-04\n",
      " 6.14791410e-04 1.52676032e-04 6.77509350e-04 4.32794332e-04\n",
      " 9.38397087e-03 1.22565660e-04 1.70682976e-03 2.28800302e-04\n",
      " 1.17578730e-03 1.77024085e-05 1.02615471e-04 2.85063899e-04\n",
      " 2.58585904e-04 2.89552354e-05 4.77969625e-05 8.06932803e-05\n",
      " 6.85235136e-04 5.26164877e-05 4.74886365e-05 2.39656993e-06\n",
      " 6.62417500e-04 4.28226231e-05 1.19294011e-04 1.88963153e-04\n",
      " 1.01004043e-04 5.05618891e-03 2.84384405e-05 2.05076276e-06\n",
      " 2.05042179e-05 1.72749442e-05]\n",
      "Predicted label index: 1\n",
      "Actual label index: 1\n",
      "-----\n",
      "Example 4:\n",
      "Predicted probabilities: [3.3849905e-05 1.1967724e-04 2.7616360e-04 3.3229157e-02 7.0493788e-01\n",
      " 3.0273386e-06 2.9530158e-04 8.3254687e-05 4.1942770e-04 2.3259909e-05\n",
      " 3.4745791e-04 9.2536575e-05 8.9918450e-07 5.9317768e-04 6.2332847e-06\n",
      " 4.3316373e-05 2.4602169e-01 1.4548504e-03 1.6481771e-04 3.5487273e-04\n",
      " 4.0450925e-03 6.5495155e-04 1.7174218e-05 7.0708263e-04 2.2777458e-05\n",
      " 3.1734488e-04 2.5335608e-05 3.0284724e-04 5.6129770e-06 7.2945091e-05\n",
      " 1.2752997e-04 2.1325743e-04 7.7010773e-05 6.3084753e-04 6.6945490e-06\n",
      " 8.8398556e-06 1.5038786e-04 8.2730410e-05 2.4797095e-05 2.7197662e-03\n",
      " 1.5091406e-05 9.0081064e-04 2.2119239e-05 1.7055005e-05 7.7889390e-06\n",
      " 3.2303797e-04]\n",
      "Predicted label index: 4\n",
      "Actual label index: 4\n",
      "-----\n",
      "Example 5:\n",
      "Predicted probabilities: [8.1421717e-07 5.0925741e-05 6.9309522e-06 2.6610793e-05 3.5196597e-05\n",
      " 1.4196861e-07 4.9788036e-06 7.4227962e-08 4.4269809e-06 1.2717828e-06\n",
      " 4.7840472e-06 2.3651376e-06 7.5684618e-08 9.9899286e-01 3.0631829e-06\n",
      " 4.2369089e-07 7.8405481e-04 2.0977091e-06 1.9727929e-06 2.2066408e-05\n",
      " 3.1837288e-05 5.6175332e-07 6.8717088e-07 1.1736637e-07 1.8849942e-06\n",
      " 1.8128486e-06 8.0718600e-08 2.6531478e-07 4.5105449e-07 7.0092483e-08\n",
      " 5.0523312e-07 3.9748969e-07 6.6237858e-06 1.9384640e-06 9.9009321e-07\n",
      " 1.0213579e-07 5.4069261e-07 8.7684413e-08 5.7997568e-07 1.5112072e-06\n",
      " 1.0930482e-06 2.2679567e-06 9.4389577e-08 1.0246262e-07 3.6518987e-08\n",
      " 7.0800183e-08]\n",
      "Predicted label index: 13\n",
      "Actual label index: 4\n",
      "-----\n"
     ]
    }
   ],
   "source": [
    "classifier.predict_examples(x_test,y_test)"
   ]
  }
 ],
 "metadata": {
  "kernelspec": {
   "display_name": "Python 3",
   "language": "python",
   "name": "python3"
  },
  "language_info": {
   "codemirror_mode": {
    "name": "ipython",
    "version": 3
   },
   "file_extension": ".py",
   "mimetype": "text/x-python",
   "name": "python",
   "nbconvert_exporter": "python",
   "pygments_lexer": "ipython3",
   "version": "3.10.4"
  }
 },
 "nbformat": 4,
 "nbformat_minor": 2
}
